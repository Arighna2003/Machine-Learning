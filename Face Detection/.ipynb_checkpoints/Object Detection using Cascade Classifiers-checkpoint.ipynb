{
 "cells": [
  {
   "cell_type": "markdown",
   "id": "7e1354f2",
   "metadata": {},
   "source": [
    "# Objection Detection using Cascade Classifiers"
   ]
  },
  {
   "cell_type": "markdown",
   "id": "3e65e485",
   "metadata": {},
   "source": [
    "### Importing OpenCV package"
   ]
  },
  {
   "cell_type": "code",
   "execution_count": 4,
   "id": "b5ace2fc",
   "metadata": {},
   "outputs": [],
   "source": [
    "import cv2"
   ]
  },
  {
   "cell_type": "markdown",
   "id": "60aa51a0",
   "metadata": {},
   "source": [
    "### Importing cascade.xml files and predicting them on a live video"
   ]
  },
  {
   "cell_type": "code",
   "execution_count": 5,
   "id": "c7396f51",
   "metadata": {},
   "outputs": [],
   "source": [
    "#Cascade Files\n",
    "\n",
    "face_capture=cv2.CascadeClassifier(\"Cascade Classifiers/haarcascade_frontalface_default.xml\")\n",
    "body_capture=cv2.CascadeClassifier(\"Cascade Classifiers/fullbody.xml\")\n",
    "clocks_capture=cv2.CascadeClassifier(\"Cascade Classifiers/clocks.xml\")\n",
    "cars_capture=cv2.CascadeClassifier(\"Cascade Classifiers/cars.xml\")\n",
    "\n",
    "#Live video\n",
    "video_capture=cv2.VideoCapture(0)\n",
    "while True :\n",
    "    ret,video_data =video_capture.read()\n",
    "    col=cv2.cvtColor(video_data,cv2.COLOR_BGR2GRAY)\n",
    "    cv2.imshow(\"Live Video\",video_data)\n",
    "    \n",
    "    faces=face_capture.detectMultiScale(\n",
    "    col,\n",
    "    scaleFactor=1.1,\n",
    "    minNeighbors=5,\n",
    "    minSize=(30,30),\n",
    "    flags=cv2.CASCADE_SCALE_IMAGE    \n",
    "    )\n",
    "    \n",
    "    body=body_capture.detectMultiScale(\n",
    "    col,\n",
    "    scaleFactor=1.1,\n",
    "    minNeighbors=5,\n",
    "    minSize=(30,30),\n",
    "    flags=cv2.CASCADE_SCALE_IMAGE    \n",
    "    )\n",
    "    \n",
    "    clocks=clocks_capture.detectMultiScale(\n",
    "    col,\n",
    "    scaleFactor=1.1,\n",
    "    minNeighbors=5,\n",
    "    minSize=(30,30),\n",
    "    flags=cv2.CASCADE_SCALE_IMAGE    \n",
    "    )\n",
    "    \n",
    "    cars=cars_capture.detectMultiScale(\n",
    "    col,\n",
    "    scaleFactor=1.1,\n",
    "    minNeighbors=5,\n",
    "    minSize=(30,30),\n",
    "    flags=cv2.CASCADE_SCALE_IMAGE    \n",
    "    )\n",
    "    for(x,y,w,h) in body:\n",
    "        cv2.rectangle(video_data,(x,y),(x+w,y+h),(255,255,0),2)\n",
    "    for(x,y,w,h) in cars:\n",
    "        cv2.rectangle(video_data,(x,y),(x+w,y+h),(255,255,0),2)\n",
    "    for(x,y,w,h) in clocks:\n",
    "        cv2.rectangle(video_data,(x,y),(x+w,y+h),(255,255,0),2)\n",
    "    for(x,y,w,h) in faces:\n",
    "        cv2.rectangle(video_data,(x,y),(x+w,y+h),(0,255,0),2)\n",
    "    cv2.imshow(\"Live Video\",video_data)    \n",
    "    if cv2.waitKey(10)==ord(\"a\"):\n",
    "        break\n",
    "video_capture.release()\n",
    "\n"
   ]
  }
 ],
 "metadata": {
  "kernelspec": {
   "display_name": "Python 3 (ipykernel)",
   "language": "python",
   "name": "python3"
  },
  "language_info": {
   "codemirror_mode": {
    "name": "ipython",
    "version": 3
   },
   "file_extension": ".py",
   "mimetype": "text/x-python",
   "name": "python",
   "nbconvert_exporter": "python",
   "pygments_lexer": "ipython3",
   "version": "3.11.3"
  },
  "varInspector": {
   "cols": {
    "lenName": 16,
    "lenType": 16,
    "lenVar": 40
   },
   "kernels_config": {
    "python": {
     "delete_cmd_postfix": "",
     "delete_cmd_prefix": "del ",
     "library": "var_list.py",
     "varRefreshCmd": "print(var_dic_list())"
    },
    "r": {
     "delete_cmd_postfix": ") ",
     "delete_cmd_prefix": "rm(",
     "library": "var_list.r",
     "varRefreshCmd": "cat(var_dic_list()) "
    }
   },
   "types_to_exclude": [
    "module",
    "function",
    "builtin_function_or_method",
    "instance",
    "_Feature"
   ],
   "window_display": false
  }
 },
 "nbformat": 4,
 "nbformat_minor": 5
}
