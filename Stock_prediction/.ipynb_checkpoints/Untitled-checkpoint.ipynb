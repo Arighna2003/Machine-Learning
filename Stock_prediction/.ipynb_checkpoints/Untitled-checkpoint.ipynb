{
 "cells": [
  {
   "cell_type": "code",
   "execution_count": 4,
   "id": "5fc91c59",
   "metadata": {},
   "outputs": [
    {
     "name": "stdout",
     "output_type": "stream",
     "text": [
      "39/39 [==============================] - 2s 41ms/step\n"
     ]
    },
    {
     "data": {
      "text/plain": [
       "DeltaGenerator()"
      ]
     },
     "execution_count": 4,
     "metadata": {},
     "output_type": "execute_result"
    }
   ],
   "source": [
    "import numpy as np\n",
    "import pandas as pd\n",
    "import matplotlib.pyplot as plt\n",
    "import pandas_datareader as data\n",
    "from keras.models import load_model\n",
    "import streamlit as st\n",
    "\n",
    "\n",
    "start = '2010-01-01'\n",
    "end = '2023-09-01'\n",
    "\n",
    "st.title('Stock Trend Prediction')\n",
    "\n",
    "user_input = st.text_input('Enter Stock Ticker', 'AAPL')\n",
    "df = data.DataReader(user_input, 'stooq', start, end)\n",
    "\n",
    "st.subheader('Data from 2010 to 2023')\n",
    "st.write(df.describe())\n",
    "\n",
    "#Visualisation \n",
    "\n",
    "st.subheader('Closing Price vs Time')\n",
    "fig = plt.figure(figsize=(12, 6))\n",
    "plt.plot(df.Close)\n",
    "st.pyplot(fig)\n",
    "\n",
    "st.subheader('Closing Price vs Time with 100MA')\n",
    "ma100 = df.Close.rolling(100).mean()\n",
    "fig = plt.figure(figsize=(12, 6))\n",
    "plt.plot(ma100)\n",
    "plt.plot(df.Close)\n",
    "st.pyplot(fig)\n",
    "\n",
    "st.subheader('Closing Price vs Time with 100MA and 200MA')\n",
    "ma100 = df.Close.rolling(100).mean()\n",
    "ma200 = df.Close.rolling(200).mean()\n",
    "fig = plt.figure(figsize=(12, 6))\n",
    "plt.plot(ma100, 'r')\n",
    "plt.plot(ma200, 'g')\n",
    "plt.plot(df.Close, 'b')\n",
    "st.pyplot(fig)\n",
    "\n",
    "\n",
    "data_training=pd.DataFrame(df['Close'][0:int(len(df)*0.70)])\n",
    "data_testing=pd.DataFrame(df['Close'][int(len(df)*0.70):int(len(df))])\n",
    "\n",
    "\n",
    "from sklearn.preprocessing import MinMaxScaler\n",
    "scaler= MinMaxScaler(feature_range=(0,1))\n",
    "\n",
    "data_training_array=scaler.fit_transform(data_training)  \n",
    "\n",
    "\n",
    "#Load the Model keras_model.h5\n",
    "model = load_model('keras_model.h5')\n",
    "\n",
    "\n",
    "past_100_days= data_training.tail(100)\n",
    "final_df = past_100_days.append(data_testing,ignore_index= True)\n",
    "input_data= scaler.fit_transform(final_df)\n",
    "\n",
    "x_test= []\n",
    "y_test=[]\n",
    "\n",
    "for i in range (100,input_data.shape[0]):\n",
    "    x_test.append(input_data[i-100: i])\n",
    "    y_test.append(input_data[i,0])\n",
    "    \n",
    "x_test, y_test = np.array(x_test), np.array(y_test)\n",
    "y_predicted = model.predict(x_test)\n",
    "\n",
    "scaler = scaler.scale_\n",
    "\n",
    "scale_factor =1/scaler[0]\n",
    "y_predicted=y_predicted * scale_factor\n",
    "y_test=y_test * scale_factor\n",
    "\n",
    "\n",
    "st.subheader('Prediction vs Original')\n",
    "fig2=plt.figure(figsize=(12,6))\n",
    "plt.plot(y_predicted,'r', label='Predicted Price')\n",
    "plt.plot(y_test,'b', label='Original Price')\n",
    "plt.xlabel('Time')\n",
    "plt.ylabel('Price')\n",
    "plt.legend()\n",
    "st.pyplot(fig2)"
   ]
  },
  {
   "cell_type": "code",
   "execution_count": null,
   "id": "13f7e665",
   "metadata": {},
   "outputs": [],
   "source": []
  }
 ],
 "metadata": {
  "kernelspec": {
   "display_name": "Python 3 (ipykernel)",
   "language": "python",
   "name": "python3"
  },
  "language_info": {
   "codemirror_mode": {
    "name": "ipython",
    "version": 3
   },
   "file_extension": ".py",
   "mimetype": "text/x-python",
   "name": "python",
   "nbconvert_exporter": "python",
   "pygments_lexer": "ipython3",
   "version": "3.11.3"
  },
  "varInspector": {
   "cols": {
    "lenName": 16,
    "lenType": 16,
    "lenVar": 40
   },
   "kernels_config": {
    "python": {
     "delete_cmd_postfix": "",
     "delete_cmd_prefix": "del ",
     "library": "var_list.py",
     "varRefreshCmd": "print(var_dic_list())"
    },
    "r": {
     "delete_cmd_postfix": ") ",
     "delete_cmd_prefix": "rm(",
     "library": "var_list.r",
     "varRefreshCmd": "cat(var_dic_list()) "
    }
   },
   "types_to_exclude": [
    "module",
    "function",
    "builtin_function_or_method",
    "instance",
    "_Feature"
   ],
   "window_display": false
  }
 },
 "nbformat": 4,
 "nbformat_minor": 5
}
